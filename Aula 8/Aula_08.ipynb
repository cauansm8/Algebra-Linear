{
 "cells": [
  {
   "cell_type": "code",
   "execution_count": 18,
   "id": "a2a86cb3",
   "metadata": {},
   "outputs": [],
   "source": [
    "import numpy as np\n",
    "import numpy.linalg as la\n",
    "# import scipy.linalg as la"
   ]
  },
  {
   "cell_type": "markdown",
   "id": "25f2a8e0",
   "metadata": {},
   "source": [
    "## Resolver Sistemas Lineares\n",
    "\n",
    "Ax = b"
   ]
  },
  {
   "cell_type": "code",
   "execution_count": 19,
   "id": "9c9a31f6",
   "metadata": {},
   "outputs": [
    {
     "name": "stdout",
     "output_type": "stream",
     "text": [
      "[[2 1 1]\n",
      " [2 0 2]\n",
      " [4 3 4]]\n",
      "[[-1]\n",
      " [ 1]\n",
      " [ 1]]\n"
     ]
    }
   ],
   "source": [
    "A = np.array([[2,1,1],\n",
    "              [2,0,2],\n",
    "              [4,3,4]])\n",
    "b = np.array([[-1],\n",
    "              [1],\n",
    "              [1]])\n",
    "\n",
    "print(A)\n",
    "print(b)"
   ]
  },
  {
   "cell_type": "code",
   "execution_count": 20,
   "id": "950f5c60",
   "metadata": {},
   "outputs": [
    {
     "name": "stdout",
     "output_type": "stream",
     "text": [
      "[[-1.16666667]\n",
      " [-0.33333333]\n",
      " [ 1.66666667]]\n",
      "\n",
      "\n",
      "2.220446049250313e-16\n"
     ]
    }
   ],
   "source": [
    "# descobre o x de Ax = b -> exige que o sistema exija uma solução (não singular) - todas linhas são não nulas\n",
    "x = la.solve(A,b)\n",
    "print(x)\n",
    "\n",
    "print (\"\\n\")\n",
    "\n",
    "\n",
    "# Erro numérico - tem que ser zero (mas no computador é aquele \"zero de máquina\"):\n",
    "r = la.norm(A@x - b)\n",
    "print(r)"
   ]
  },
  {
   "cell_type": "markdown",
   "id": "b186af15",
   "metadata": {},
   "source": [
    "Solução exata:\n",
    "$$\n",
    "\\mathbf{x} = \\left[ \\begin{array}{r} -7/6 \\\\-1/3 \\\\ 5/3 \\end{array} \\right]\n",
    "$$\n"
   ]
  },
  {
   "cell_type": "markdown",
   "id": "c53ef1b4",
   "metadata": {},
   "source": [
    "# Exemplo: Circuito Elétrico em Paralelo\n",
    "\n",
    "![Rede de Resistores](data/circuit.png)\n",
    "\n",
    "O problema é encontrar as correntes $i_1, i_2,..., i_N $\n",
    "\n",
    "A solução é dada por: $A i = b$\n",
    "\n",
    "onde:\n",
    "\n",
    "$$\n",
    "A = \n",
    "\\left[\n",
    "\\begin{array}{cccccccc}\n",
    "2R & -R & 0 & 0 & \\cdots & 0 & 0 & 0 \\\\\n",
    "-R & 2R & -R & 0 & & 0 & 0  & 0 \\\\\n",
    "0 & -R & 2R & -R & \\cdots & 0 & 0 & 0 \\\\\n",
    "\\vdots &  & \\vdots &  & \\ddots & & \\vdots & \\\\\n",
    "0 & 0 & 0 & 0 & \\cdots & -R & 2R & -R \\\\\n",
    "0 & 0 & 0 & 0 & \\cdots & 0 & -R & 2R \\\\\n",
    "\\end{array}\n",
    "\\right]\n",
    "\\hspace{10mm}\n",
    "\\mathbf{b} = \\left[ \\begin{array}{r} V \\\\ \\vdots \\\\ V \\end{array} \\right]\n",
    "$$"
   ]
  },
  {
   "cell_type": "code",
   "execution_count": 21,
   "id": "3680ef2c",
   "metadata": {},
   "outputs": [
    {
     "name": "stdout",
     "output_type": "stream",
     "text": [
      "[2.5 4.5 6.  7.  7.5 7.5 7.  6.  4.5 2.5]\n"
     ]
    }
   ],
   "source": [
    "n = 10\n",
    "\n",
    "r = 20\n",
    "\n",
    "v = 10\n",
    "\n",
    "b = np.full(n, v)\n",
    "\n",
    "a_1 = np.diag(np.full(n, 2*r))\n",
    "\n",
    "a_2 = np.diag(np.full(n - 1, -r), 1)\n",
    "\n",
    "a = a_1 + a_2 + a_2.T\n",
    "\n",
    "i = la.solve(a, b)\n",
    "\n",
    "print (i)\n",
    "\n"
   ]
  },
  {
   "cell_type": "markdown",
   "id": "6e05d2b6",
   "metadata": {},
   "source": [
    "## Mudança de Base\n",
    "\n",
    "Sejam duas bases B e C em um espaço vetorial. Queremos encontrar a matriz [A]ᶜᴮ que transforma as coordenadas de um vetor na base C para as coordenadas na base B.\n",
    "\n",
    "[v]ᴮ = [A]ᶜᴮ [v]ᶜ\n",
    "\n",
    "Para construir essa matriz, precisamos expressar cada vetor da base C como uma combinação linear dos vetores da base B. Cada uma dessas combinações lineares é um sistema linear a ser resolvido.\n",
    "\n"
   ]
  },
  {
   "cell_type": "code",
   "execution_count": null,
   "id": "59bb26b6",
   "metadata": {},
   "outputs": [],
   "source": [
    "def mudanca_de_base(b:list, c:list):\n",
    "    \n",
    "    c_mat = np.stack(c).T\n",
    "    x = []\n",
    "\n",
    "    for b_i in b:\n",
    "        x_i = la.solve(c_mat, b_i)\n",
    "        x.append(x_i)\n",
    "\n",
    "    x = np.stack(x).T\n",
    "\n",
    "    return x"
   ]
  },
  {
   "cell_type": "markdown",
   "id": "4519c9b1",
   "metadata": {},
   "source": [
    "## Matriz de transformação linear em diferentes bases:\n",
    "\n",
    "Seja T uma transformação linear de um espaço vetorial V para U. Sejam $B_1$ e $B_2$ bases de V, e $C_1$ e $C_2$ bases de U. Seja [T]ᴮ¹ᶜ¹ a matriz de T em relação às bases $B_1$ e $C_1$, e [T]ᴮ²ᶜ² a matriz de T em relação às bases $B_2$ e $C_2$. A relação entre essas matrizes é dada por:\n",
    "\n",
    "$[T]ᴮ²ᶜ² = Q^{-1} [T]ᴮ¹ᶜ¹ P$\n",
    "\n",
    "onde P é a matriz de mudança de base de B_2 para B_1, e Q é a matriz de mudança de base de C_1 para C_2."
   ]
  },
  {
   "cell_type": "code",
   "execution_count": null,
   "id": "046ba245",
   "metadata": {},
   "outputs": [],
   "source": []
  }
 ],
 "metadata": {
  "kernelspec": {
   "display_name": "Python 3",
   "language": "python",
   "name": "python3"
  },
  "language_info": {
   "codemirror_mode": {
    "name": "ipython",
    "version": 3
   },
   "file_extension": ".py",
   "mimetype": "text/x-python",
   "name": "python",
   "nbconvert_exporter": "python",
   "pygments_lexer": "ipython3",
   "version": "3.13.3"
  }
 },
 "nbformat": 4,
 "nbformat_minor": 5
}
