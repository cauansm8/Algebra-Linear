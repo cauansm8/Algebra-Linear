{
 "cells": [
  {
   "cell_type": "code",
   "execution_count": null,
   "id": "30deca02",
   "metadata": {},
   "outputs": [],
   "source": [
    "import numpy as np\n",
    "import matplotlib.pyplot as plt\n",
    "from matplotlib.patches import Arc"
   ]
  },
  {
   "cell_type": "markdown",
   "id": "90bad466",
   "metadata": {},
   "source": [
    "# Introdução a matrizes\n",
    "\n",
    "Matrizes são representadas como vetores com mais dimensões (shape)"
   ]
  },
  {
   "cell_type": "code",
   "execution_count": null,
   "id": "e54de63e",
   "metadata": {},
   "outputs": [],
   "source": [
    " # Matriz de zeros\n",
    " # Matriz de 1\n",
    " # Matriz todas com 7\n",
    " # Matriz com valores aleatórios\n",
    " # Matriz 4x3\n",
    " # Matriz identidade 4x4\n",
    " # Matriz diagonal\n",
    "\n",
    "# Transformar array em matriz (reshape)\n",
    "# Transposição\n",
    "print('Matriz M')\n",
    "#print(M)\n",
    "print('Usando transposição: M.T')\n",
    "#print(M.T)"
   ]
  },
  {
   "cell_type": "markdown",
   "id": "8fd5e336",
   "metadata": {},
   "source": [
    "## Operações com matrizes\n",
    "\n",
    "Para operar matrizes, as dimensões (shape) devem ser compatíveis"
   ]
  },
  {
   "cell_type": "code",
   "execution_count": null,
   "id": "bd819b75",
   "metadata": {},
   "outputs": [],
   "source": [
    "# Soma de Matrizes\n",
    "M_soma = M_random + M_ones # ambas MxN\n",
    "print('M_random + M_ones')\n",
    "print(M_soma)\n",
    "print('='*50)\n",
    "# Multiplicação de Matrizes\n",
    "M_mult = M @ M_ones # PxN e NxQ --> PxQ\n",
    "print('M @ M_ones')\n",
    "print(M_mult)\n",
    "print('='*50)\n",
    "\n",
    "# Operação com vetores\n",
    "M_vetor = np.array([1, 2, 3])\n",
    "M_vetor_soma = M_vetor + M_ones # A ultima dimensão deve ser igual a dimensão do vetor\n",
    "print('M_vetor + M_ones')\n",
    "print(M_vetor_soma)\n",
    "print('='*50)\n",
    "\n",
    "# Acessar elementos\n",
    "print('Primeira Linha')\n",
    "print(M[0])\n",
    "print('='*50)\n",
    "\n",
    "print('Primeira coluna')\n",
    "print(M[:, 0])\n",
    "print('='*50)\n",
    "\n",
    "print('Elemento [1, 2]')\n",
    "print(M[1, 2])\n",
    "print('='*50)\n",
    "\n",
    "print('Usando slicing: M[0, 1:3]')\n",
    "print(M[0, 1:3])\n",
    "print('='*50)\n"
   ]
  },
  {
   "cell_type": "markdown",
   "id": "81291d6d",
   "metadata": {},
   "source": [
    "## Visualização de operação com matrizes\n",
    "\n",
    "Matriz rotação:\n",
    "$$\n",
    "\\begin{bmatrix}\n",
    "\\cos(\\theta) & -\\sin(\\theta) \\\\\n",
    "\\sin(\\theta) & \\cos(\\theta)\n",
    "\\end{bmatrix}\n",
    "$$"
   ]
  },
  {
   "cell_type": "code",
   "execution_count": null,
   "id": "cfc7eee2",
   "metadata": {},
   "outputs": [],
   "source": [
    "def matriz_rotacao(angulo, rad = False):\n",
    "    pass\n",
    "\n",
    "\n",
    "vet = np.array([1,3])\n",
    "M_rot = matriz_rotacao(90)\n",
    "vet_rot = M_rot @ vet\n",
    "\n",
    "# Verifica o angulo:\n",
    "cos = vet.T @ vet_rot / (np.linalg.norm(vet) * np.linalg.norm(vet_rot))\n",
    "ang_rad = np.arccos(cos)\n",
    "ang = np.degrees(ang_rad)\n",
    "print(f'Ângulo entre vetores: {ang}°')\n",
    "\n",
    "\n",
    "# Visualização\n",
    "fig, ax = plt.subplots()\n",
    "plt.quiver(0, 0, vet[0], vet[1], angles='xy', scale_units='xy', scale=1, color='r', label='Vetor Original')\n",
    "plt.quiver(0, 0, vet_rot[0], vet_rot[1], angles='xy', scale_units='xy', scale=1, color='b', label='Vetor Rotacionado')\n",
    "\n",
    "\n",
    "# Desenha o arco:\n",
    "# 4. Calculate the start and end angles for the arc\n",
    "centro = [0,0]\n",
    "theta1 = np.rad2deg(np.arctan2(vet[1] - centro[1], vet[0] - centro[0]))\n",
    "theta2 = np.rad2deg(np.arctan2(vet_rot[1] - centro[1], vet_rot[0] - centro[0]))\n",
    "angle_arc = Arc(centro, 2, 2, angle=ang_rad, theta1=theta1, theta2=theta2, color='black', linewidth=2)\n",
    "ax.add_patch(angle_arc)\n",
    "\n",
    "plt.text(0.5, 0.5, f'{ang:.2f}°', color='green', fontsize=12)\n",
    "plt.grid()\n",
    "plt.xlim(-5, 5)\n",
    "plt.ylim(-5, 5)\n",
    "plt.axhline(0, color='black',linewidth=0.5, ls='--')\n",
    "plt.axvline(0, color='black',linewidth=0.5, ls='--')\n",
    "plt.gca().set_aspect('equal', adjustable='box')\n",
    "plt.legend()"
   ]
  },
  {
   "cell_type": "markdown",
   "id": "c33afd80",
   "metadata": {},
   "source": [
    "Matriz reflexão:\n",
    "$$\n",
    "\\begin{bmatrix}\n",
    "\\cos(2\\theta) & \\sin(2\\theta) \\\\\n",
    "\\sin(2\\theta) & -\\cos(2\\theta)\n",
    "\\end{bmatrix}\n",
    "$$"
   ]
  },
  {
   "cell_type": "code",
   "execution_count": null,
   "id": "fd786138",
   "metadata": {},
   "outputs": [],
   "source": [
    "def matriz_reflexao(angulo, rad = False):\n",
    "    pass\n",
    "\n",
    "def get_linha_reflexao(angulo, xlim = [-5,5], rad=False):\n",
    "    if not rad:\n",
    "        angulo = np.radians(angulo)\n",
    "    m = np.tan(angulo)\n",
    "    b = 0\n",
    "    x = np.array(xlim)\n",
    "    y = m * x + b\n",
    "    return x, y\n",
    "\n",
    "angulo_reflexao = 15\n",
    "vet = np.array([3,2])\n",
    "M_reflexo = matriz_reflexao(angulo_reflexao)\n",
    "vet_reflexo = M_reflexo @ vet\n",
    "\n",
    "\n",
    "# Visualização\n",
    "fig, ax = plt.subplots()\n",
    "plt.quiver(0, 0, vet[0], vet[1], angles='xy', scale_units='xy', scale=1, color='r', label='Vetor Original')\n",
    "plt.quiver(0, 0, vet_reflexo[0], vet_reflexo[1], angles='xy', scale_units='xy', scale=1, color='b', label='Vetor Refletido')\n",
    "plt.plot(*get_linha_reflexao(angulo_reflexao), color='orange', lw=2, label='Linha de Reflexão')\n",
    "\n",
    "plt.grid()\n",
    "plt.xlim(-5, 5)\n",
    "plt.ylim(-5, 5)\n",
    "plt.axhline(0, color='black',linewidth=0.5, ls='--')\n",
    "plt.axvline(0, color='black',linewidth=0.5, ls='--')\n",
    "plt.gca().set_aspect('equal', adjustable='box')\n",
    "plt.legend()"
   ]
  },
  {
   "cell_type": "markdown",
   "id": "8c564a1b",
   "metadata": {},
   "source": [
    "## Exercício:\n",
    "\n",
    "Projeção em um vetor é uma operação linear (verifique). Crie a matriz de projeção em um vetor qualquer."
   ]
  },
  {
   "cell_type": "code",
   "execution_count": null,
   "id": "db9757d0",
   "metadata": {},
   "outputs": [],
   "source": [
    "def get_proj_mat(u):\n",
    "    pass\n",
    "\n",
    "u = np.array([4, 3])\n",
    "M_proj = get_proj_mat(u)\n",
    "print('Matriz de Projeção')\n",
    "print(M_proj)\n",
    "\n",
    "vet = np.array([1, 2])\n",
    "vet_proj = M_proj @ vet\n",
    "\n",
    "\n",
    "# Visualização\n",
    "fig, ax = plt.subplots()\n",
    "plt.quiver(0, 0, vet[0], vet[1], angles='xy', scale_units='xy', scale=1, color='r', label='Vetor Original')\n",
    "plt.quiver(0, 0, u[0], u[1], angles='xy', scale_units='xy', scale=1, color='orange', label='Vetor Direção')\n",
    "plt.quiver(0, 0, vet_proj[0], vet_proj[1], angles='xy', scale_units='xy', scale=1, color='b', label='Vetor Projetado')\n",
    "\n",
    "plt.plot([vet[0], vet_proj[0]], [vet[1], vet_proj[1]], color='green', ls='--', label='Componente Perpendicular')\n",
    "\n",
    "plt.grid()\n",
    "plt.xlim(-5, 5)\n",
    "plt.ylim(-5, 5)\n",
    "plt.axhline(0, color='black',linewidth=0.5, ls='--')\n",
    "plt.axvline(0, color='black',linewidth=0.5, ls='--')\n",
    "plt.gca().set_aspect('equal', adjustable='box')\n",
    "plt.legend()"
   ]
  }
 ],
 "metadata": {
  "kernelspec": {
   "display_name": "libselection",
   "language": "python",
   "name": "python3"
  },
  "language_info": {
   "codemirror_mode": {
    "name": "ipython",
    "version": 3
   },
   "file_extension": ".py",
   "mimetype": "text/x-python",
   "name": "python",
   "nbconvert_exporter": "python",
   "pygments_lexer": "ipython3",
   "version": "3.10.16"
  }
 },
 "nbformat": 4,
 "nbformat_minor": 5
}
